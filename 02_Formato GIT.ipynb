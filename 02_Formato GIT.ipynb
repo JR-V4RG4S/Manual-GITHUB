{
 "cells": [
  {
   "cell_type": "markdown",
   "metadata": {},
   "source": [
    "# **FORMATO DE REPOSITORIO**\n",
    "Para dar un buen formato al repositorio de GITHUB es importante que establezcamos bien los mensajes pertinentes en cada subida, actualización que realicemos"
   ]
  },
  {
   "cell_type": "markdown",
   "metadata": {},
   "source": [
    "### **Versiones**"
   ]
  },
  {
   "cell_type": "markdown",
   "metadata": {},
   "source": [
    "Para establecer las versiones que tendrá nuestro código debemos establecer algunas cosas primeramente. \n",
    "\n",
    "<center> <h4> <strong> Versión Alfa <br> v0.0.1 </strong> </h4> </center>\n",
    "\n",
    "Lo común es que todos comencemos con la version v0.0.1 que es una función no funcional \n",
    "\n",
    "\n",
    "<center> <h4> <strong> v1.0.0 </strong> </h4> </center>\n",
    "\n",
    "Cuando tenemos una funcion funcional y la subimos, se convierte en la v1.0.0\n",
    "\n",
    "+ Si existen cambios menores el número final va a ir cambiando **v1.0.1**\n",
    "+ Si existe un cambio grande o muchos cambios que se han implementado entonces se cambia el número del medio **v1.1.0**\n",
    "+ Cuando cambiamos el número principal **v2.0.0** es \n",
    "    + Una versión estable con muchas mejoras\n",
    "    + Se sustituyen Funcionalidades \n",
    "    + Se hacen muchos cambios \n",
    "\n",
    "Así por si en algún momento debemos volver a una versión anterior que era más estable y funcionaba correctamente podemos hacerlo "
   ]
  },
  {
   "cell_type": "markdown",
   "metadata": {},
   "source": [
    "### **RAMAS (BRANCH)**"
   ]
  },
  {
   "cell_type": "markdown",
   "metadata": {},
   "source": [
    "Las ramas nos permiten poder subdividir el desarrollo de nuestro proyecto en ramas fuera de version en producción, por lo cual es importante utilizar estas mismas para ir mejorando e implementando funcionalidades sin afectar al sistema principal"
   ]
  },
  {
   "cell_type": "markdown",
   "metadata": {},
   "source": [
    "**Creando una rama**"
   ]
  },
  {
   "cell_type": "markdown",
   "metadata": {},
   "source": [
    "para crear una nueva rama nos vamos a **Source Control**.\n",
    "Seleccionamos los 3 puntos, a **Branch**, y luego **Create New Branch**\n",
    "\n",
    "\n",
    "\n",
    "<img src=\"images/branch.jpg\" width=\"800\"/>"
   ]
  },
  {
   "cell_type": "markdown",
   "metadata": {},
   "source": [
    "Asignamos el nombre que queramos y lo publicamos **Publish Branch**\n",
    "\n",
    "<img src=\"images/ramas.png\" width=\"800\"/>\n",
    "\n",
    "Podemos observar en nuestro repositorio que ahora tenemos 2 ramas y todos los cambios que realicemos desde ahora se actualizaran en esa rama sin afectar a la rama anterior y así poder trabajar y cuando finalicemos hacer un **MERGE** para juntarlo con la rama principal (**Master**)"
   ]
  },
  {
   "cell_type": "markdown",
   "metadata": {},
   "source": [
    "**Eliminando Rama Creada**\n",
    "Una vez que hemos dejado de trabajar en la rama secundaria podemos unirla a la rama principal \n",
    "+ 1) Nos vamos a **Source Control**\n",
    "+ 2) Seleccionamos los 3 puntos\n",
    "+ 3) Seleccionamos **Checkout to**\n",
    "+ 4) Seleccionamos la rama **Master**"
   ]
  },
  {
   "cell_type": "markdown",
   "metadata": {},
   "source": []
  }
 ],
 "metadata": {
  "language_info": {
   "name": "python"
  }
 },
 "nbformat": 4,
 "nbformat_minor": 2
}
