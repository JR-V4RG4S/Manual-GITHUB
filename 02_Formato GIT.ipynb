{
 "cells": [
  {
   "cell_type": "markdown",
   "metadata": {},
   "source": [
    "# **FORMATO DE REPOSITORIO**\n",
    "Para dar un buen formato al repositorio de GITHUB es importante que establezcamos bien los mensajes pertinentes en cada subida, actualización que realicemos"
   ]
  },
  {
   "cell_type": "markdown",
   "metadata": {},
   "source": [
    "### **Versiones**"
   ]
  },
  {
   "cell_type": "markdown",
   "metadata": {},
   "source": [
    "Para establecer las versiones que tendrá nuestro código debemos establecer algunas cosas primeramente. \n",
    "\n",
    "<center> <h4> <strong> Versión Alfa <br> v0.0.1 </strong> </h4> </center>\n",
    "\n",
    "Lo común es que todos comencemos con la version v0.0.1 que es una función no funcional \n",
    "\n",
    "\n",
    "<center> <h4> <strong> v1.0.0 </strong> </h4> </center>\n",
    "\n",
    "Cuando tenemos una funcion funcional y la subimos, se convierte en la v1.0.0\n",
    "\n",
    "+ Si existen cambios menores el número final va a ir cambiando **v1.0.1**\n",
    "+ Si existe un cambio grande o muchos cambios que se han implementado entonces se cambia el número del medio **v1.1.0**\n",
    "+ Cuando cambiamos el número principal **v2.0.0** es \n",
    "    + Una versión estable con muchas mejoras\n",
    "    + Se sustituyen Funcionalidades \n",
    "    + Se hacen muchos cambios \n",
    "\n",
    "Así por si en algún momento debemos volver a una versión anterior que era más estable y funcionaba correctamente podemos hacerlo "
   ]
  },
  {
   "cell_type": "markdown",
   "metadata": {},
   "source": [
    "### **PULL/PUSH**"
   ]
  },
  {
   "cell_type": "markdown",
   "metadata": {},
   "source": [
    "Estos comandos nos sirven para mantener actualizado el repositorio local como también el remoto\n",
    "\n",
    "**PUSH:** Se utiliza para actualizar nuestro repositorio remoto en base a todo lo que avanzamos localmente (generalmente se avanza por commit)\n",
    "          Es ideal usarlo despues de eliminar ciertas ramas que no queremos que continuen en el remoto\n",
    "\n",
    "**PULL:** Se utiliza cuando queremos actualizar nuestro repositorio local con la última versión que se encuentra en el remoto"
   ]
  },
  {
   "cell_type": "markdown",
   "metadata": {},
   "source": [
    "### **RAMAS (BRANCH)**"
   ]
  },
  {
   "cell_type": "markdown",
   "metadata": {},
   "source": [
    "Las ramas nos permiten poder subdividir el desarrollo de nuestro proyecto en ramas fuera de version en producción, por lo cual es importante utilizar estas mismas para ir mejorando e implementando funcionalidades sin afectar al sistema principal"
   ]
  },
  {
   "cell_type": "markdown",
   "metadata": {},
   "source": [
    "#### **Creando una rama**"
   ]
  },
  {
   "cell_type": "markdown",
   "metadata": {},
   "source": [
    "para crear una nueva rama nos vamos a **Source Control**.\n",
    "Seleccionamos los 3 puntos, a **Branch**, y luego **Create New Branch**\n",
    "\n",
    "\n",
    "\n",
    "<img src=\"images/branch.jpg\" width=\"800\"/>"
   ]
  },
  {
   "cell_type": "markdown",
   "metadata": {},
   "source": [
    "Asignamos el nombre que queramos y lo publicamos **Publish Branch**\n",
    "\n",
    "<img src=\"images/ramas.png\" width=\"800\"/>\n",
    "\n",
    "Podemos observar en nuestro repositorio que ahora tenemos 2 ramas y todos los cambios que realicemos desde ahora se actualizaran en esa rama sin afectar a la rama anterior y así poder trabajar y cuando finalicemos hacer un **MERGE** para juntarlo con la rama principal (**Master**)"
   ]
  },
  {
   "cell_type": "markdown",
   "metadata": {},
   "source": [
    "#### **Uniendo rama secundaria con Main (Principal)**"
   ]
  },
  {
   "cell_type": "markdown",
   "metadata": {},
   "source": [
    "Una vez que terminamos con los cambios en la rama secundaria lo que podemos realizar ahora es un Merge para que los cambios de la rama secundaria se fusionen con la rama principal \n",
    "\n",
    "+ 1) Nos vamos a **Source Control**\n",
    "+ 2) Seleccionamos los 3 puntos\n",
    "+ 3) Seleccionamos **Branch**\n",
    "+ 4) Luego seleccionamos **Merge**\n",
    "+ 5) Luego seleccionamos **rama2**\n",
    "\n",
    "<img src=\"images/fusionando rama.png\" width=\"800\"/>\n",
    "\n",
    "con eso ya todos los cambios realizados en la rama secundario estan fusionados con la rama principal, por lo cual ya podremos eliminar esa rama secundaria "
   ]
  },
  {
   "cell_type": "markdown",
   "metadata": {},
   "source": [
    "#### **Eliminando Rama Creada**"
   ]
  },
  {
   "cell_type": "markdown",
   "metadata": {},
   "source": [
    "Una vez que hemos dejado de trabajar en la rama secundaria lo primero que debemos hacer es desactivarla  \n",
    "\n",
    "**Desactivamos la rama secundaria**\n",
    "\n",
    "+ 1) Nos vamos a **Source Control**\n",
    "+ 2) Seleccionamos los 3 puntos\n",
    "+ 3) Seleccionamos **Checkout to**\n",
    "+ 4) Seleccionamos la rama **Main**\n",
    "\n",
    "<img src=\"images/01_borrando rama.png\" width=\"800\"/>\n",
    "\n",
    "con esos cambios ya volvimos a la rama de Main y está desactivada la rama secundaria \n",
    "\n",
    "\n",
    "**Eliminando la rama secundaria**\n",
    "\n",
    "+ 1) Nos vamos a **Source Control**\n",
    "+ 2) Seleccionamos los 3 puntos\n",
    "+ 3) Seleccionamos **Branch**\n",
    "+ 4) Luego seleccionamos **Delete Branch**\n",
    "+ 5) Luego seleccionamos **rama2**\n",
    "\n",
    "<img src=\"images/02_borrando rama.png\" width=\"800\"/>"
   ]
  },
  {
   "cell_type": "markdown",
   "metadata": {},
   "source": [
    "Para que los cambios se suban al GITHUB debemos utilizar el comando **PUSH**\n",
    "\n",
    "+ 1) Nos vamos a **Source Control**\n",
    "+ 2) Seleccionamos los 3 puntos\n",
    "+ 3) Seleccionamos **PULL, PUSH**\n",
    "+ 4) Luego seleccionamos **PUSH TO...**\n",
    "+ 5) Luego seleccionamos **Seleccionamos nuestro repositorio**\n",
    "\n",
    "<img src=\"images/02_borrando rama.png\" width=\"800\"/>"
   ]
  }
 ],
 "metadata": {
  "language_info": {
   "name": "python"
  }
 },
 "nbformat": 4,
 "nbformat_minor": 2
}
