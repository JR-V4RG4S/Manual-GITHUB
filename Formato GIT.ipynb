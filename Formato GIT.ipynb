{
 "cells": [
  {
   "cell_type": "markdown",
   "metadata": {},
   "source": [
    "# **FORMATO DE REPOSITORIO**\n",
    "Para dar un buen formato al repositorio de GITHUB es importante que establezcamos bien los mensajes pertinentes en cada subida, actualización que realicemos"
   ]
  },
  {
   "cell_type": "markdown",
   "metadata": {},
   "source": [
    "### **Versiones**\n",
    "\n",
    "Para establecer las versiones que tendrá nuestro código debemos establecer algunas cosas primeramente. \n",
    "\n",
    "<center> <h4> <strong> Versión Alfa <br> v0.0.1 </strong> </h4> </center>\n",
    "\n",
    "Lo común es que todos comencemos con la version v0.0.1 que es una función no funcional \n",
    "\n",
    "\n",
    "<center> <h4> <strong> v1.0.0 </strong> </h4> </center>\n",
    "\n",
    "Cuando tenemos una funcion funcional y la subimos, se convierte en la v1.0.0\n",
    "\n",
    "+ Si existen cambios menores el número final va a ir cambiando **v1.0.1**\n",
    "+ Si existe un cambio grande o muchos cambios que se han implementado entonces se cambia el número del medio **v1.1.0**\n",
    "+ Cuando cambiamos el número principal **v2.0.0** es \n",
    "    + Una versión estable con muchas mejoras\n",
    "    + Se sustituyen Funcionalidades \n",
    "    + Se hacen muchos cambios \n",
    "\n",
    "Así por si en algún momento debemos volver a una versión anterior que era más estable y funcionaba correctamente podemos hacerlo "
   ]
  },
  {
   "cell_type": "code",
   "execution_count": null,
   "metadata": {},
   "outputs": [],
   "source": []
  }
 ],
 "metadata": {
  "language_info": {
   "name": "python"
  }
 },
 "nbformat": 4,
 "nbformat_minor": 2
}
